{
 "cells": [
  {
   "cell_type": "markdown",
   "id": "69d42374",
   "metadata": {},
   "source": [
    "# Heart Disease Prediction using BLR"
   ]
  },
  {
   "cell_type": "markdown",
   "id": "77b61277",
   "metadata": {},
   "source": [
    "#### Background:\n",
    "In recent years, the field of healthcare has seen a significant transformation with the advent of data science. Data science in healthcare involves the application of statistical methods, machine learning techniques, and computational algorithms to analyze and interpret complex healthcare data. \n",
    "\n",
    "The dataset originally comes from the CDC and is a major part of the Behavioral Risk Factor Surveillance System (BRFSS), which conducts annual telephone surveys to collect data on the health status of U.S. residents. As described by the CDC: \"Established in 1984 with 15 states, BRFSS now collects data in all 50 states, the District of Columbia, and three U.S. territories. \n",
    "\n",
    "\n",
    "#### Attributes:\n",
    "\n",
    "###### Demographic:\n",
    "    BMI: Body Mass Index(Numeric)\n",
    "    Sex: male or female(Nominal)\n",
    "    Age: Age of the patient;(Categorical)\n",
    "    Race: Black or White(Factor)\n",
    "\n",
    "    \n",
    "\n",
    "###### Behavioral:\n",
    "\n",
    "    Smoker: whether or not the patient is a current smoker (Factor) Values: `Yes` or `no`\n",
    "    Does a patient consume alcohol: (Factor) Values: `Yes` or `no`\n",
    "    Difficulty Walking: (Factor) Values: `Yes` or `no`\n",
    "    Physical activity such as running, walking, skipping, etc: (Factor) Values: `Yes` or `no\n",
    "    Average Sleep time in hours: (Numeric)\n",
    "    \n",
    "    \n",
    "###### Information on medical history:\n",
    "\n",
    "    Physical Health: For how many days during the past 30 days was your physical health not good? (Numeric)\n",
    "    Mental Health: For how many days during the past 30 days was your mental health not good? (Numeric)\n",
    "    General Health: General health of the patient.(Factor)\n",
    "    Asthma: Whether a patient is suffering from Asthma. (Factor) Values: `Yes` or `no\n",
    "    Kidney Disease: Whether a patient has kidney disease (Factor) Values: `Yes` or `no\n",
    "    Skin Cancer: Whether a patient has skin cancer (Factor) Values: `Yes` or `no\n",
    "    Stroke: Whether a patient has any stroke (Factor) Values: `Yes` or `no\n",
    "    Diabetic: Whether a patient is suffering from diabetes. (Factor) Values: `Yes` or `no , Yes(during pregnancy), No, borderline \n",
    "   \n",
    "    \n",
    "###### Information on current medical condition:\n",
    "\n",
    "    This dataset set contains information of patients who are suffering from heart disease\n",
    "    Heart Disease: Whether patient is suffering from a heart disease (Factor) Values: `Yes` or `no\n",
    "    \n",
    "    \n",
    "    \n",
    "###### Target variable to predict:\n",
    "Heart Disease as it associates to various factors such as demographics, medical history and behaviour - (binary: “1”, means “Yes”, “0” means “No”)\n"
   ]
  },
  {
   "cell_type": "markdown",
   "id": "0c318baf",
   "metadata": {},
   "source": [
    "STEP 1:\n",
    "\n",
    "Data Management and Exploratoray Data Analysis\n"
   ]
  },
  {
   "cell_type": "code",
   "execution_count": 2,
   "id": "7dadcb6b",
   "metadata": {},
   "outputs": [],
   "source": [
    "# Import Libraries\n",
    "\n",
    "import pandas as pd\n",
    "import numpy as np\n",
    "import matplotlib.pyplot as plt\n",
    "import seaborn as sns\n",
    "\n",
    "import warnings\n",
    "warnings.filterwarnings('ignore')\n",
    "\n",
    "import os\n",
    "os.chdir(r\"C:\\Users\\willi\\GitHub\\Capstone_Project\\data\\raw\")"
   ]
  },
  {
   "cell_type": "code",
   "execution_count": null,
   "id": "89fdc5de",
   "metadata": {},
   "outputs": [
    {
     "name": "stdout",
     "output_type": "stream",
     "text": [
      "✅ Datasets Loaded Successfully\n"
     ]
    }
   ],
   "source": [
    "# Load Datasets\n",
    "\n",
    "BH = pd.read_csv('Behaviour.csv')\n",
    "DG = pd.read_csv('Demographics.csv')\n",
    "HeartD = pd.read_csv('Heart Disease.csv')\n",
    "MedicalH = pd.read_csv('Medical History.csv')\n",
    "print(\"✅ Datasets Loaded Successfully\")\n",
    "\n"
   ]
  },
  {
   "cell_type": "code",
   "execution_count": null,
   "id": "7f807165",
   "metadata": {},
   "outputs": [
    {
     "name": "stdout",
     "output_type": "stream",
     "text": [
      "Shape of Behaviour Dataset: (319795, 6)\n",
      "Shape of Demographics Dataset: (319795, 5)\n",
      "Shape of Heart Disease Dataset: (319795, 2)\n",
      "Shape of Medical History Dataset: (319795, 9)\n"
     ]
    }
   ],
   "source": [
    "# Check the shape of the datasets\n",
    "\n",
    "print(\"Shape of Behaviour Dataset:\", BH.shape)\n",
    "print(\"Shape of Demographics Dataset:\", DG.shape)   \n",
    "print(\"Shape of Heart Disease Dataset:\", HeartD.shape)\n",
    "print(\"Shape of Medical History Dataset:\", MedicalH.shape)"
   ]
  },
  {
   "cell_type": "code",
   "execution_count": 5,
   "id": "48878af6",
   "metadata": {},
   "outputs": [
    {
     "name": "stdout",
     "output_type": "stream",
     "text": [
      "\n",
      "--- Behaviour Info ---\n",
      "<class 'pandas.core.frame.DataFrame'>\n",
      "RangeIndex: 319795 entries, 0 to 319794\n",
      "Data columns (total 6 columns):\n",
      " #   Column            Non-Null Count   Dtype \n",
      "---  ------            --------------   ----- \n",
      " 0   pid               319795 non-null  object\n",
      " 1   Smoking           319795 non-null  object\n",
      " 2   AlcoholDrinking   319795 non-null  object\n",
      " 3   DiffWalking       319795 non-null  object\n",
      " 4   PhysicalActivity  319795 non-null  object\n",
      " 5   SleepTime         319795 non-null  int64 \n",
      "dtypes: int64(1), object(5)\n",
      "memory usage: 14.6+ MB\n",
      "\n",
      "--- Demographics Info ---\n",
      "<class 'pandas.core.frame.DataFrame'>\n",
      "RangeIndex: 319795 entries, 0 to 319794\n",
      "Data columns (total 5 columns):\n",
      " #   Column       Non-Null Count   Dtype  \n",
      "---  ------       --------------   -----  \n",
      " 0   pid          319795 non-null  object \n",
      " 1   BMI          319795 non-null  float64\n",
      " 2   Sex          319795 non-null  object \n",
      " 3   AgeCategory  319795 non-null  object \n",
      " 4   Race         319795 non-null  object \n",
      "dtypes: float64(1), object(4)\n",
      "memory usage: 12.2+ MB\n",
      "\n",
      "--- Heart Disease Info ---\n",
      "<class 'pandas.core.frame.DataFrame'>\n",
      "RangeIndex: 319795 entries, 0 to 319794\n",
      "Data columns (total 2 columns):\n",
      " #   Column        Non-Null Count   Dtype \n",
      "---  ------        --------------   ----- \n",
      " 0   pid           319795 non-null  object\n",
      " 1   HeartDisease  319795 non-null  object\n",
      "dtypes: object(2)\n",
      "memory usage: 4.9+ MB\n",
      "\n",
      "--- Medical History Info ---\n",
      "<class 'pandas.core.frame.DataFrame'>\n",
      "RangeIndex: 319795 entries, 0 to 319794\n",
      "Data columns (total 9 columns):\n",
      " #   Column          Non-Null Count   Dtype \n",
      "---  ------          --------------   ----- \n",
      " 0   pid             319795 non-null  object\n",
      " 1   PhysicalHealth  319795 non-null  int64 \n",
      " 2   MentalHealth    319795 non-null  int64 \n",
      " 3   GenHealth       319795 non-null  object\n",
      " 4   Asthma          319795 non-null  object\n",
      " 5   KidneyDisease   319795 non-null  object\n",
      " 6   SkinCancer      319795 non-null  object\n",
      " 7   Stroke          319795 non-null  object\n",
      " 8   Diabetic        319795 non-null  object\n",
      "dtypes: int64(2), object(7)\n",
      "memory usage: 22.0+ MB\n"
     ]
    }
   ],
   "source": [
    "# Preview Data Structure\n",
    "\n",
    "print(\"\\n--- Behaviour Info ---\")\n",
    "BH.info()\n",
    "\n",
    "print(\"\\n--- Demographics Info ---\")\n",
    "DG.info()\n",
    "\n",
    "print(\"\\n--- Heart Disease Info ---\")\n",
    "HeartD.info()\n",
    "\n",
    "print(\"\\n--- Medical History Info ---\")\n",
    "MedicalH.info()\n",
    "\n",
    "\n"
   ]
  },
  {
   "cell_type": "code",
   "execution_count": 6,
   "id": "5eb124b7",
   "metadata": {},
   "outputs": [
    {
     "name": "stdout",
     "output_type": "stream",
     "text": [
      "Missing in Demographics:\n",
      " pid            0\n",
      "BMI            0\n",
      "Sex            0\n",
      "AgeCategory    0\n",
      "Race           0\n",
      "dtype: int64\n",
      "\n",
      "Missing in Medical History:\n",
      " pid               0\n",
      "PhysicalHealth    0\n",
      "MentalHealth      0\n",
      "GenHealth         0\n",
      "Asthma            0\n",
      "KidneyDisease     0\n",
      "SkinCancer        0\n",
      "Stroke            0\n",
      "Diabetic          0\n",
      "dtype: int64\n",
      "\n",
      "Missing in Behaviour:\n",
      " pid                 0\n",
      "Smoking             0\n",
      "AlcoholDrinking     0\n",
      "DiffWalking         0\n",
      "PhysicalActivity    0\n",
      "SleepTime           0\n",
      "dtype: int64\n",
      "\n",
      "Missing in Heart Disease:\n",
      " pid             0\n",
      "HeartDisease    0\n",
      "dtype: int64\n"
     ]
    }
   ],
   "source": [
    "# Count Missing Values\n",
    "\n",
    "print(\"Missing in Demographics:\\n\", DG.isnull().sum())\n",
    "print(\"\\nMissing in Medical History:\\n\", MedicalH.isnull().sum())\n",
    "print(\"\\nMissing in Behaviour:\\n\", BH.isnull().sum())\n",
    "print(\"\\nMissing in Heart Disease:\\n\", HeartD.isnull().sum())\n"
   ]
  },
  {
   "cell_type": "code",
   "execution_count": 7,
   "id": "8b1ecf34",
   "metadata": {},
   "outputs": [
    {
     "name": "stdout",
     "output_type": "stream",
     "text": [
      "Duplicates in Demographics: 0\n",
      "Duplicates in Medical History: 0\n",
      "Duplicates in Behaviour: 0\n",
      "Duplicates in Heart Disease: 0\n"
     ]
    }
   ],
   "source": [
    "# Check for Duplicates\n",
    "\n",
    "print(\"Duplicates in Demographics:\", DG.duplicated().sum())\n",
    "print(\"Duplicates in Medical History:\", MedicalH.duplicated().sum())\n",
    "print(\"Duplicates in Behaviour:\", BH.duplicated().sum())\n",
    "print(\"Duplicates in Heart Disease:\", HeartD.duplicated().sum())\n"
   ]
  },
  {
   "cell_type": "markdown",
   "id": "26b18056",
   "metadata": {},
   "source": [
    "Summary"
   ]
  },
  {
   "cell_type": "code",
   "execution_count": 9,
   "id": "3409fbea",
   "metadata": {},
   "outputs": [
    {
     "data": {
      "application/vnd.microsoft.datawrangler.viewer.v0+json": {
       "columns": [
        {
         "name": "index",
         "rawType": "int64",
         "type": "integer"
        },
        {
         "name": "Dataset",
         "rawType": "object",
         "type": "string"
        },
        {
         "name": "Rows",
         "rawType": "int64",
         "type": "integer"
        },
        {
         "name": "Columns",
         "rawType": "int64",
         "type": "integer"
        },
        {
         "name": "Duplicates",
         "rawType": "int64",
         "type": "integer"
        }
       ],
       "ref": "fc143895-c320-46ed-8b96-dc4ecd1db541",
       "rows": [
        [
         "0",
         "Demographics",
         "319795",
         "5",
         "0"
        ],
        [
         "1",
         "Medical History",
         "319795",
         "9",
         "0"
        ],
        [
         "2",
         "Behaviour",
         "319795",
         "6",
         "0"
        ],
        [
         "3",
         "Heart Disease",
         "319795",
         "2",
         "0"
        ]
       ],
       "shape": {
        "columns": 4,
        "rows": 4
       }
      },
      "text/html": [
       "<div>\n",
       "<style scoped>\n",
       "    .dataframe tbody tr th:only-of-type {\n",
       "        vertical-align: middle;\n",
       "    }\n",
       "\n",
       "    .dataframe tbody tr th {\n",
       "        vertical-align: top;\n",
       "    }\n",
       "\n",
       "    .dataframe thead th {\n",
       "        text-align: right;\n",
       "    }\n",
       "</style>\n",
       "<table border=\"1\" class=\"dataframe\">\n",
       "  <thead>\n",
       "    <tr style=\"text-align: right;\">\n",
       "      <th></th>\n",
       "      <th>Dataset</th>\n",
       "      <th>Rows</th>\n",
       "      <th>Columns</th>\n",
       "      <th>Duplicates</th>\n",
       "    </tr>\n",
       "  </thead>\n",
       "  <tbody>\n",
       "    <tr>\n",
       "      <th>0</th>\n",
       "      <td>Demographics</td>\n",
       "      <td>319795</td>\n",
       "      <td>5</td>\n",
       "      <td>0</td>\n",
       "    </tr>\n",
       "    <tr>\n",
       "      <th>1</th>\n",
       "      <td>Medical History</td>\n",
       "      <td>319795</td>\n",
       "      <td>9</td>\n",
       "      <td>0</td>\n",
       "    </tr>\n",
       "    <tr>\n",
       "      <th>2</th>\n",
       "      <td>Behaviour</td>\n",
       "      <td>319795</td>\n",
       "      <td>6</td>\n",
       "      <td>0</td>\n",
       "    </tr>\n",
       "    <tr>\n",
       "      <th>3</th>\n",
       "      <td>Heart Disease</td>\n",
       "      <td>319795</td>\n",
       "      <td>2</td>\n",
       "      <td>0</td>\n",
       "    </tr>\n",
       "  </tbody>\n",
       "</table>\n",
       "</div>"
      ],
      "text/plain": [
       "           Dataset    Rows  Columns  Duplicates\n",
       "0     Demographics  319795        5           0\n",
       "1  Medical History  319795        9           0\n",
       "2        Behaviour  319795        6           0\n",
       "3    Heart Disease  319795        2           0"
      ]
     },
     "execution_count": 9,
     "metadata": {},
     "output_type": "execute_result"
    }
   ],
   "source": [
    "# Summary view of the datasets\n",
    "\n",
    "\n",
    "summary = pd.DataFrame({\n",
    "    \"Dataset\": [\"Demographics\", \"Medical History\", \"Behaviour\", \"Heart Disease\"],\n",
    "    \"Rows\": [DG.shape[0], MedicalH.shape[0], BH.shape[0], HeartD.shape[0]],\n",
    "    \"Columns\": [DG.shape[1], MedicalH.shape[1], BH.shape[1], HeartD.shape[1]],\n",
    "    \"Duplicates\": [\n",
    "        DG.duplicated().sum(),\n",
    "        MedicalH.duplicated().sum(),\n",
    "        BH.duplicated().sum(),\n",
    "        HeartD.duplicated().sum()\n",
    "    ]\n",
    "})\n",
    "summary\n"
   ]
  },
  {
   "cell_type": "markdown",
   "id": "fac62ef5",
   "metadata": {},
   "source": [
    "# Step 2: Merge Datasets "
   ]
  },
  {
   "cell_type": "markdown",
   "id": "809bd0aa",
   "metadata": {},
   "source": [
    "All 4 data sets will be merged into one Master dataset for EDA and cleaning. Variables will be examined and  based on their association with the target variable they will either be kept or dropped.\n",
    "\n",
    "All datasets have `pid` Patient ID column. We shall use and execute an inner merge to keep only the records present in all datasets."
   ]
  },
  {
   "cell_type": "code",
   "execution_count": 10,
   "id": "a5cb03e5",
   "metadata": {},
   "outputs": [
    {
     "name": "stdout",
     "output_type": "stream",
     "text": [
      "✅ Datasets Merged Successfully\n"
     ]
    }
   ],
   "source": [
    "# Merge Demographics and Behaviour on pid\n",
    "\n",
    "df_1 = pd.merge(DG,BH, on=\"pid\", how=\"inner\")\n",
    "\n",
    "# Merge result with Medical History\n",
    "df_2 = pd.merge(df_1, MedicalH, on=\"pid\", how=\"inner\")\n",
    "\n",
    "# Merge second result with Heart Disease\n",
    "master_data = pd.merge(df_2, HeartD, on=\"pid\", how=\"inner\")\n",
    "\n",
    "print(\"✅ Datasets Merged Successfully\")"
   ]
  },
  {
   "cell_type": "markdown",
   "id": "36d0f3cf",
   "metadata": {},
   "source": [
    "Inspect the master dataset"
   ]
  },
  {
   "cell_type": "code",
   "execution_count": 11,
   "id": "8115da47",
   "metadata": {},
   "outputs": [
    {
     "name": "stdout",
     "output_type": "stream",
     "text": [
      "Shape of master dataset: (319795, 19)\n",
      "Columns in master dataset: ['pid', 'BMI', 'Sex', 'AgeCategory', 'Race', 'Smoking', 'AlcoholDrinking', 'DiffWalking', 'PhysicalActivity', 'SleepTime', 'PhysicalHealth', 'MentalHealth', 'GenHealth', 'Asthma', 'KidneyDisease', 'SkinCancer', 'Stroke', 'Diabetic', 'HeartDisease']\n"
     ]
    },
    {
     "data": {
      "application/vnd.microsoft.datawrangler.viewer.v0+json": {
       "columns": [
        {
         "name": "index",
         "rawType": "int64",
         "type": "integer"
        },
        {
         "name": "pid",
         "rawType": "object",
         "type": "string"
        },
        {
         "name": "BMI",
         "rawType": "float64",
         "type": "float"
        },
        {
         "name": "Sex",
         "rawType": "object",
         "type": "string"
        },
        {
         "name": "AgeCategory",
         "rawType": "object",
         "type": "string"
        },
        {
         "name": "Race",
         "rawType": "object",
         "type": "string"
        },
        {
         "name": "Smoking",
         "rawType": "object",
         "type": "string"
        },
        {
         "name": "AlcoholDrinking",
         "rawType": "object",
         "type": "string"
        },
        {
         "name": "DiffWalking",
         "rawType": "object",
         "type": "string"
        },
        {
         "name": "PhysicalActivity",
         "rawType": "object",
         "type": "string"
        },
        {
         "name": "SleepTime",
         "rawType": "int64",
         "type": "integer"
        },
        {
         "name": "PhysicalHealth",
         "rawType": "int64",
         "type": "integer"
        },
        {
         "name": "MentalHealth",
         "rawType": "int64",
         "type": "integer"
        },
        {
         "name": "GenHealth",
         "rawType": "object",
         "type": "string"
        },
        {
         "name": "Asthma",
         "rawType": "object",
         "type": "string"
        },
        {
         "name": "KidneyDisease",
         "rawType": "object",
         "type": "string"
        },
        {
         "name": "SkinCancer",
         "rawType": "object",
         "type": "string"
        },
        {
         "name": "Stroke",
         "rawType": "object",
         "type": "string"
        },
        {
         "name": "Diabetic",
         "rawType": "object",
         "type": "string"
        },
        {
         "name": "HeartDisease",
         "rawType": "object",
         "type": "string"
        }
       ],
       "ref": "f9e3dc0e-507a-4514-9a28-949c469fb600",
       "rows": [
        [
         "0",
         "PID-01",
         "16.6",
         "Female",
         "55-59",
         "White",
         "Yes",
         "No",
         "No",
         "Yes",
         "5",
         "3",
         "30",
         "Very good",
         "Yes",
         "No",
         "Yes",
         "No",
         "Yes",
         "No"
        ],
        [
         "1",
         "PID-02",
         "20.34",
         "Female",
         "80 or older",
         "White",
         "No",
         "No",
         "No",
         "Yes",
         "7",
         "0",
         "0",
         "Very good",
         "No",
         "No",
         "No",
         "Yes",
         "No",
         "No"
        ],
        [
         "2",
         "PID-03",
         "26.58",
         "Male",
         "65-69",
         "White",
         "Yes",
         "No",
         "No",
         "Yes",
         "8",
         "20",
         "30",
         "Fair",
         "Yes",
         "No",
         "No",
         "No",
         "Yes",
         "No"
        ],
        [
         "3",
         "PID-04",
         "24.21",
         "Female",
         "75-79",
         "White",
         "No",
         "No",
         "No",
         "No",
         "6",
         "0",
         "0",
         "Good",
         "No",
         "No",
         "Yes",
         "No",
         "No",
         "No"
        ],
        [
         "4",
         "PID-05",
         "23.71",
         "Female",
         "40-44",
         "White",
         "No",
         "No",
         "Yes",
         "Yes",
         "8",
         "28",
         "0",
         "Very good",
         "No",
         "No",
         "No",
         "No",
         "No",
         "No"
        ]
       ],
       "shape": {
        "columns": 19,
        "rows": 5
       }
      },
      "text/html": [
       "<div>\n",
       "<style scoped>\n",
       "    .dataframe tbody tr th:only-of-type {\n",
       "        vertical-align: middle;\n",
       "    }\n",
       "\n",
       "    .dataframe tbody tr th {\n",
       "        vertical-align: top;\n",
       "    }\n",
       "\n",
       "    .dataframe thead th {\n",
       "        text-align: right;\n",
       "    }\n",
       "</style>\n",
       "<table border=\"1\" class=\"dataframe\">\n",
       "  <thead>\n",
       "    <tr style=\"text-align: right;\">\n",
       "      <th></th>\n",
       "      <th>pid</th>\n",
       "      <th>BMI</th>\n",
       "      <th>Sex</th>\n",
       "      <th>AgeCategory</th>\n",
       "      <th>Race</th>\n",
       "      <th>Smoking</th>\n",
       "      <th>AlcoholDrinking</th>\n",
       "      <th>DiffWalking</th>\n",
       "      <th>PhysicalActivity</th>\n",
       "      <th>SleepTime</th>\n",
       "      <th>PhysicalHealth</th>\n",
       "      <th>MentalHealth</th>\n",
       "      <th>GenHealth</th>\n",
       "      <th>Asthma</th>\n",
       "      <th>KidneyDisease</th>\n",
       "      <th>SkinCancer</th>\n",
       "      <th>Stroke</th>\n",
       "      <th>Diabetic</th>\n",
       "      <th>HeartDisease</th>\n",
       "    </tr>\n",
       "  </thead>\n",
       "  <tbody>\n",
       "    <tr>\n",
       "      <th>0</th>\n",
       "      <td>PID-01</td>\n",
       "      <td>16.60</td>\n",
       "      <td>Female</td>\n",
       "      <td>55-59</td>\n",
       "      <td>White</td>\n",
       "      <td>Yes</td>\n",
       "      <td>No</td>\n",
       "      <td>No</td>\n",
       "      <td>Yes</td>\n",
       "      <td>5</td>\n",
       "      <td>3</td>\n",
       "      <td>30</td>\n",
       "      <td>Very good</td>\n",
       "      <td>Yes</td>\n",
       "      <td>No</td>\n",
       "      <td>Yes</td>\n",
       "      <td>No</td>\n",
       "      <td>Yes</td>\n",
       "      <td>No</td>\n",
       "    </tr>\n",
       "    <tr>\n",
       "      <th>1</th>\n",
       "      <td>PID-02</td>\n",
       "      <td>20.34</td>\n",
       "      <td>Female</td>\n",
       "      <td>80 or older</td>\n",
       "      <td>White</td>\n",
       "      <td>No</td>\n",
       "      <td>No</td>\n",
       "      <td>No</td>\n",
       "      <td>Yes</td>\n",
       "      <td>7</td>\n",
       "      <td>0</td>\n",
       "      <td>0</td>\n",
       "      <td>Very good</td>\n",
       "      <td>No</td>\n",
       "      <td>No</td>\n",
       "      <td>No</td>\n",
       "      <td>Yes</td>\n",
       "      <td>No</td>\n",
       "      <td>No</td>\n",
       "    </tr>\n",
       "    <tr>\n",
       "      <th>2</th>\n",
       "      <td>PID-03</td>\n",
       "      <td>26.58</td>\n",
       "      <td>Male</td>\n",
       "      <td>65-69</td>\n",
       "      <td>White</td>\n",
       "      <td>Yes</td>\n",
       "      <td>No</td>\n",
       "      <td>No</td>\n",
       "      <td>Yes</td>\n",
       "      <td>8</td>\n",
       "      <td>20</td>\n",
       "      <td>30</td>\n",
       "      <td>Fair</td>\n",
       "      <td>Yes</td>\n",
       "      <td>No</td>\n",
       "      <td>No</td>\n",
       "      <td>No</td>\n",
       "      <td>Yes</td>\n",
       "      <td>No</td>\n",
       "    </tr>\n",
       "    <tr>\n",
       "      <th>3</th>\n",
       "      <td>PID-04</td>\n",
       "      <td>24.21</td>\n",
       "      <td>Female</td>\n",
       "      <td>75-79</td>\n",
       "      <td>White</td>\n",
       "      <td>No</td>\n",
       "      <td>No</td>\n",
       "      <td>No</td>\n",
       "      <td>No</td>\n",
       "      <td>6</td>\n",
       "      <td>0</td>\n",
       "      <td>0</td>\n",
       "      <td>Good</td>\n",
       "      <td>No</td>\n",
       "      <td>No</td>\n",
       "      <td>Yes</td>\n",
       "      <td>No</td>\n",
       "      <td>No</td>\n",
       "      <td>No</td>\n",
       "    </tr>\n",
       "    <tr>\n",
       "      <th>4</th>\n",
       "      <td>PID-05</td>\n",
       "      <td>23.71</td>\n",
       "      <td>Female</td>\n",
       "      <td>40-44</td>\n",
       "      <td>White</td>\n",
       "      <td>No</td>\n",
       "      <td>No</td>\n",
       "      <td>Yes</td>\n",
       "      <td>Yes</td>\n",
       "      <td>8</td>\n",
       "      <td>28</td>\n",
       "      <td>0</td>\n",
       "      <td>Very good</td>\n",
       "      <td>No</td>\n",
       "      <td>No</td>\n",
       "      <td>No</td>\n",
       "      <td>No</td>\n",
       "      <td>No</td>\n",
       "      <td>No</td>\n",
       "    </tr>\n",
       "  </tbody>\n",
       "</table>\n",
       "</div>"
      ],
      "text/plain": [
       "      pid    BMI     Sex  AgeCategory   Race Smoking AlcoholDrinking  \\\n",
       "0  PID-01  16.60  Female        55-59  White     Yes              No   \n",
       "1  PID-02  20.34  Female  80 or older  White      No              No   \n",
       "2  PID-03  26.58    Male        65-69  White     Yes              No   \n",
       "3  PID-04  24.21  Female        75-79  White      No              No   \n",
       "4  PID-05  23.71  Female        40-44  White      No              No   \n",
       "\n",
       "  DiffWalking PhysicalActivity  SleepTime  PhysicalHealth  MentalHealth  \\\n",
       "0          No              Yes          5               3            30   \n",
       "1          No              Yes          7               0             0   \n",
       "2          No              Yes          8              20            30   \n",
       "3          No               No          6               0             0   \n",
       "4         Yes              Yes          8              28             0   \n",
       "\n",
       "   GenHealth Asthma KidneyDisease SkinCancer Stroke Diabetic HeartDisease  \n",
       "0  Very good    Yes            No        Yes     No      Yes           No  \n",
       "1  Very good     No            No         No    Yes       No           No  \n",
       "2       Fair    Yes            No         No     No      Yes           No  \n",
       "3       Good     No            No        Yes     No       No           No  \n",
       "4  Very good     No            No         No     No       No           No  "
      ]
     },
     "execution_count": 11,
     "metadata": {},
     "output_type": "execute_result"
    }
   ],
   "source": [
    "# Shape and columns\n",
    "print(\"Shape of master dataset:\", master_data.shape)\n",
    "print(\"Columns in master dataset:\", master_data.columns.tolist())\n",
    "\n",
    "# Preview first few rows\n",
    "master_data.head()\n"
   ]
  },
  {
   "cell_type": "markdown",
   "id": "96d472a6",
   "metadata": {},
   "source": [
    "After reviewing all the column's it has been resolved that for now we keep all of them as all columns have a percieved correlation to heart disease."
   ]
  },
  {
   "cell_type": "markdown",
   "id": "1518780d",
   "metadata": {},
   "source": [
    "# Step 3: Summary Table"
   ]
  },
  {
   "cell_type": "markdown",
   "id": "99e010bc",
   "metadata": {},
   "source": [
    "We shall proceed to create a summary table of each variable to understand its values, variation, missing data, inconsistent data etc."
   ]
  },
  {
   "cell_type": "code",
   "execution_count": 15,
   "id": "85243977",
   "metadata": {},
   "outputs": [
    {
     "name": "stdout",
     "output_type": "stream",
     "text": [
      "\n",
      "--- Descriptive Summary of Master Dataset ---\n",
      "                      count  unique         top    freq       mean       std  \\\n",
      "pid                 319795  319795  PID-319795       1        NaN       NaN   \n",
      "BMI               319795.0    3604         NaN     NaN  28.325399    6.3561   \n",
      "Sex                 319795       2      Female  167805        NaN       NaN   \n",
      "AgeCategory         319795      13       65-69   34151        NaN       NaN   \n",
      "Race                319795       6       White  245212        NaN       NaN   \n",
      "Smoking             319795       2          No  187887        NaN       NaN   \n",
      "AlcoholDrinking     319795       2          No  298018        NaN       NaN   \n",
      "DiffWalking         319795       2          No  275385        NaN       NaN   \n",
      "PhysicalActivity    319795       2         Yes  247957        NaN       NaN   \n",
      "SleepTime         319795.0      24         NaN     NaN   7.097075  1.436007   \n",
      "PhysicalHealth    319795.0      31         NaN     NaN    3.37171   7.95085   \n",
      "MentalHealth      319795.0      31         NaN     NaN   3.898366  7.955235   \n",
      "GenHealth           319795       5   Very good  113858        NaN       NaN   \n",
      "Asthma              319795       2          No  276923        NaN       NaN   \n",
      "KidneyDisease       319795       2          No  308016        NaN       NaN   \n",
      "SkinCancer          319795       2          No  289976        NaN       NaN   \n",
      "Stroke              319795       2          No  307726        NaN       NaN   \n",
      "Diabetic            319795       4          No  269653        NaN       NaN   \n",
      "HeartDisease        319795       2          No  292422        NaN       NaN   \n",
      "\n",
      "                    min    25%    50%    75%    max  missing  \n",
      "pid                 NaN    NaN    NaN    NaN    NaN        0  \n",
      "BMI               12.02  24.03  27.34  31.42  94.85        0  \n",
      "Sex                 NaN    NaN    NaN    NaN    NaN        0  \n",
      "AgeCategory         NaN    NaN    NaN    NaN    NaN        0  \n",
      "Race                NaN    NaN    NaN    NaN    NaN        0  \n",
      "Smoking             NaN    NaN    NaN    NaN    NaN        0  \n",
      "AlcoholDrinking     NaN    NaN    NaN    NaN    NaN        0  \n",
      "DiffWalking         NaN    NaN    NaN    NaN    NaN        0  \n",
      "PhysicalActivity    NaN    NaN    NaN    NaN    NaN        0  \n",
      "SleepTime           1.0    6.0    7.0    8.0   24.0        0  \n",
      "PhysicalHealth      0.0    0.0    0.0    2.0   30.0        0  \n",
      "MentalHealth        0.0    0.0    0.0    3.0   30.0        0  \n",
      "GenHealth           NaN    NaN    NaN    NaN    NaN        0  \n",
      "Asthma              NaN    NaN    NaN    NaN    NaN        0  \n",
      "KidneyDisease       NaN    NaN    NaN    NaN    NaN        0  \n",
      "SkinCancer          NaN    NaN    NaN    NaN    NaN        0  \n",
      "Stroke              NaN    NaN    NaN    NaN    NaN        0  \n",
      "Diabetic            NaN    NaN    NaN    NaN    NaN        0  \n",
      "HeartDisease        NaN    NaN    NaN    NaN    NaN        0  \n"
     ]
    }
   ],
   "source": [
    "# Descriptive Summary of the master dataset\n",
    "summary_stats = master_data.describe(include='all').transpose()\n",
    "summary_stats['missing'] = master_data.isnull().sum()\n",
    "summary_stats['unique'] = master_data.nunique()\n",
    "\n",
    "print(\"\\n--- Descriptive Summary of Master Dataset ---\\n\",summary_stats)"
   ]
  },
  {
   "cell_type": "code",
   "execution_count": 18,
   "id": "49a8ac0c",
   "metadata": {},
   "outputs": [
    {
     "name": "stdout",
     "output_type": "stream",
     "text": [
      "      pid    BMI     Sex  AgeCategory   Race Smoking AlcoholDrinking  \\\n",
      "0  PID-01  16.60  Female        55-59  White     Yes              No   \n",
      "1  PID-02  20.34  Female  80 or older  White      No              No   \n",
      "2  PID-03  26.58    Male        65-69  White     Yes              No   \n",
      "3  PID-04  24.21  Female        75-79  White      No              No   \n",
      "4  PID-05  23.71  Female        40-44  White      No              No   \n",
      "\n",
      "  DiffWalking PhysicalActivity  SleepTime  PhysicalHealth  MentalHealth  \\\n",
      "0          No              Yes          5               3            30   \n",
      "1          No              Yes          7               0             0   \n",
      "2          No              Yes          8              20            30   \n",
      "3          No               No          6               0             0   \n",
      "4         Yes              Yes          8              28             0   \n",
      "\n",
      "   GenHealth Asthma KidneyDisease SkinCancer Stroke Diabetic HeartDisease  \n",
      "0  Very good    Yes            No        Yes     No      Yes           No  \n",
      "1  Very good     No            No         No    Yes       No           No  \n",
      "2       Fair    Yes            No         No     No      Yes           No  \n",
      "3       Good     No            No        Yes     No       No           No  \n",
      "4  Very good     No            No         No     No       No           No  \n"
     ]
    }
   ],
   "source": [
    "print(master_data.head())"
   ]
  }
 ],
 "metadata": {
  "kernelspec": {
   "display_name": "lean-ds-env",
   "language": "python",
   "name": "python3"
  },
  "language_info": {
   "codemirror_mode": {
    "name": "ipython",
    "version": 3
   },
   "file_extension": ".py",
   "mimetype": "text/x-python",
   "name": "python",
   "nbconvert_exporter": "python",
   "pygments_lexer": "ipython3",
   "version": "3.10.16"
  }
 },
 "nbformat": 4,
 "nbformat_minor": 5
}
